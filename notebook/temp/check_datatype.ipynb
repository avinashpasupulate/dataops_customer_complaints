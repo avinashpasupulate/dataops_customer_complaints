{
 "cells": [
  {
   "cell_type": "code",
   "execution_count": 2,
   "metadata": {},
   "outputs": [],
   "source": [
    "import os\n",
    "import pandas as pd\n",
    "\n",
    "cwd = '/Users/avinashpasupulate/Documents/datascience/dataops/'"
   ]
  },
  {
   "cell_type": "code",
   "execution_count": 3,
   "metadata": {},
   "outputs": [
    {
     "data": {
      "text/plain": [
       "['.DS_Store', 'ownership.csv', 'deleted.csv']"
      ]
     },
     "execution_count": 3,
     "metadata": {},
     "output_type": "execute_result"
    }
   ],
   "source": [
    "os.listdir(cwd+'data/raw/pgyr17_p011819')"
   ]
  },
  {
   "cell_type": "code",
   "execution_count": 4,
   "metadata": {},
   "outputs": [],
   "source": [
    "df = pd.read_csv(cwd+'data/raw/pgyr17_p011819/ownership.csv')"
   ]
  },
  {
   "cell_type": "code",
   "execution_count": 9,
   "metadata": {},
   "outputs": [
    {
     "name": "stdout",
     "output_type": "stream",
     "text": [
      "<class 'pandas.core.frame.DataFrame'>\n",
      "RangeIndex: 2630 entries, 0 to 2629\n",
      "Data columns (total 29 columns):\n",
      "Change_Type                                                         2630 non-null object\n",
      "Physician_Profile_ID                                                2630 non-null int64\n",
      "Physician_First_Name                                                2630 non-null object\n",
      "Physician_Middle_Name                                               1051 non-null object\n",
      "Physician_Last_Name                                                 2630 non-null object\n",
      "Physician_Name_Suffix                                               518 non-null object\n",
      "Recipient_Primary_Business_Street_Address_Line1                     2630 non-null object\n",
      "Recipient_Primary_Business_Street_Address_Line2                     791 non-null object\n",
      "Recipient_City                                                      2630 non-null object\n",
      "Recipient_State                                                     2630 non-null object\n",
      "Recipient_Zip_Code                                                  2630 non-null object\n",
      "Recipient_Country                                                   2630 non-null object\n",
      "Recipient_Province                                                  0 non-null float64\n",
      "Recipient_Postal_Code                                               0 non-null float64\n",
      "Physician_Primary_Type                                              2630 non-null object\n",
      "Physician_Specialty                                                 2486 non-null object\n",
      "Record_ID                                                           2630 non-null int64\n",
      "Program_Year                                                        2630 non-null int64\n",
      "Total_Amount_Invested_USDollars                                     2630 non-null float64\n",
      "Value_of_Interest                                                   2630 non-null float64\n",
      "Terms_of_Interest                                                   2618 non-null object\n",
      "Submitting_Applicable_Manufacturer_or_Applicable_GPO_Name           2630 non-null object\n",
      "Applicable_Manufacturer_or_Applicable_GPO_Making_Payment_ID         2630 non-null int64\n",
      "Applicable_Manufacturer_or_Applicable_GPO_Making_Payment_Name       2630 non-null object\n",
      "Applicable_Manufacturer_or_Applicable_GPO_Making_Payment_State      2617 non-null object\n",
      "Applicable_Manufacturer_or_Applicable_GPO_Making_Payment_Country    2630 non-null object\n",
      "Dispute_Status_for_Publication                                      2630 non-null object\n",
      "Interest_Held_by_Physician_or_an_Immediate_Family_Member            2630 non-null object\n",
      "Payment_Publication_Date                                            2630 non-null object\n",
      "dtypes: float64(4), int64(4), object(21)\n",
      "memory usage: 595.9+ KB\n"
     ]
    }
   ],
   "source": [
    "df.info()"
   ]
  },
  {
   "cell_type": "code",
   "execution_count": null,
   "metadata": {},
   "outputs": [],
   "source": []
  }
 ],
 "metadata": {
  "kernelspec": {
   "display_name": "Python 3",
   "language": "python",
   "name": "python3"
  },
  "language_info": {
   "codemirror_mode": {
    "name": "ipython",
    "version": 3
   },
   "file_extension": ".py",
   "mimetype": "text/x-python",
   "name": "python",
   "nbconvert_exporter": "python",
   "pygments_lexer": "ipython3",
   "version": "3.7.0"
  }
 },
 "nbformat": 4,
 "nbformat_minor": 2
}
