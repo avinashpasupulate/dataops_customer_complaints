{
 "cells": [
  {
   "cell_type": "code",
   "execution_count": 6,
   "metadata": {},
   "outputs": [],
   "source": [
    "import os\n",
    "import pandas as pd"
   ]
  },
  {
   "cell_type": "code",
   "execution_count": 4,
   "metadata": {},
   "outputs": [],
   "source": [
    "os.chdir(\"/Users/Avinash/Documents/datascience/dataops\")"
   ]
  },
  {
   "cell_type": "code",
   "execution_count": 5,
   "metadata": {},
   "outputs": [
    {
     "data": {
      "text/plain": [
       "['pipeline',\n",
       " '.DS_Store',\n",
       " 'test',\n",
       " 'docs',\n",
       " 'project_structure_gen.sh',\n",
       " 'Readme.md',\n",
       " '.gitignore',\n",
       " 'model',\n",
       " 'notebook',\n",
       " '.git',\n",
       " 'data',\n",
       " 'tf',\n",
       " 'src']"
      ]
     },
     "execution_count": 5,
     "metadata": {},
     "output_type": "execute_result"
    }
   ],
   "source": [
    "os.listdir()"
   ]
  },
  {
   "cell_type": "code",
   "execution_count": 8,
   "metadata": {},
   "outputs": [
    {
     "data": {
      "text/plain": [
       "['.DS_Store', 'Consumer_Complaints.csv']"
      ]
     },
     "execution_count": 8,
     "metadata": {},
     "output_type": "execute_result"
    }
   ],
   "source": [
    "os.listdir('data/raw/')"
   ]
  },
  {
   "cell_type": "code",
   "execution_count": 9,
   "metadata": {},
   "outputs": [
    {
     "name": "stderr",
     "output_type": "stream",
     "text": [
      "/Users/Avinash/anaconda3/lib/python3.5/site-packages/IPython/core/interactiveshell.py:2785: DtypeWarning: Columns (5) have mixed types. Specify dtype option on import or set low_memory=False.\n",
      "  interactivity=interactivity, compiler=compiler, result=result)\n"
     ]
    }
   ],
   "source": [
    "data = pd.read_csv(\"/Users/Avinash/Documents/datascience/dataops/data/raw/Consumer_Complaints.csv\")"
   ]
  },
  {
   "cell_type": "code",
   "execution_count": 13,
   "metadata": {},
   "outputs": [
    {
     "name": "stdout",
     "output_type": "stream",
     "text": [
      "date received\n",
      "product\n",
      "sub-product\n",
      "issue\n",
      "sub-issue\n",
      "consumer complaint narrative\n",
      "company public response\n",
      "company\n",
      "state\n",
      "zip code\n",
      "tags\n",
      "consumer consent provided?\n",
      "submitted via\n",
      "date sent to company\n",
      "company response to consumer\n",
      "timely response?\n",
      "consumer disputed?\n",
      "complaint id\n"
     ]
    }
   ],
   "source": [
    "for i in data.columns:\n",
    "    print(i.lower())"
   ]
  }
 ],
 "metadata": {
  "kernelspec": {
   "display_name": "Python 3",
   "language": "python",
   "name": "python3"
  },
  "language_info": {
   "codemirror_mode": {
    "name": "ipython",
    "version": 3
   },
   "file_extension": ".py",
   "mimetype": "text/x-python",
   "name": "python",
   "nbconvert_exporter": "python",
   "pygments_lexer": "ipython3",
   "version": "3.5.6"
  }
 },
 "nbformat": 4,
 "nbformat_minor": 2
}
